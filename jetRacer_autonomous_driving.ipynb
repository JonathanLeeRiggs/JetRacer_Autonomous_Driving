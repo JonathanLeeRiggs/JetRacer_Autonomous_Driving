{
 "cells": [
  {
   "cell_type": "markdown",
   "metadata": {},
   "source": [
    " # <b> jetRacer autonomous driving </b> "
   ]
  },
  {
   "cell_type": "markdown",
   "metadata": {},
   "source": [
    "### by lane and stop sign detection- Jonathan Riggs Doron Shaul project"
   ]
  },
  {
   "cell_type": "markdown",
   "metadata": {},
   "source": [
    "Creating a <b>nvidiaRacecar</b> and a <b>CSI camera</b> objects."
   ]
  },
  {
   "cell_type": "code",
   "execution_count": 1,
   "metadata": {},
   "outputs": [],
   "source": [
    "import cv2 as cv\n",
    "import numpy as np\n",
    "from time import gmtime, strftime, sleep, time\n",
    "import logging\n",
    "import matplotlib.pyplot as plt\n",
    "from jetcam.csi_camera import CSICamera\n",
    "from jetracer.nvidia_racecar import NvidiaRacecar\n",
    "\n",
    "car = NvidiaRacecar()\n",
    "\n",
    "camera = CSICamera(width=224, height=224)"
   ]
  },
  {
   "cell_type": "code",
   "execution_count": 2,
   "metadata": {},
   "outputs": [],
   "source": [
    "def weighted_img(img, initial_img, α=0.8, β=1., λ=0.):\n",
    "    \"\"\"\n",
    "    `img` is the output of the hough_lines(), An image with lines drawn on it.\n",
    "    Should be a blank image (all black) with lines drawn on it.\n",
    "    `initial_img` should be the image before any processing.\n",
    "    The result image is computed as follows:\n",
    "    initial_img * α + img * β + λ\n",
    "    NOTE: initial_img and img must be the same shape!\n",
    "    \"\"\"\n",
    "    return cv.addWeighted(initial_img, α, img, β, λ)"
   ]
  },
  {
   "cell_type": "markdown",
   "metadata": {},
   "source": [
    "This method detects lines (that represents lanes) in the image. The lines have to be at least 10 pixels long."
   ]
  },
  {
   "cell_type": "code",
   "execution_count": 3,
   "metadata": {},
   "outputs": [],
   "source": [
    "def detect_line_segments(cropped_edges):\n",
    "    # tuning min_threshold, minLineLength, maxLineGap is a trial and error process by hand\n",
    "    rho = 1  # distance precision in pixel, i.e. 1 pixel\n",
    "    angle = np.pi / 180  # angular precision in radian, i.e. 1 degree\n",
    "    min_threshold = 10  # minimal of votes\n",
    "    line_segments = cv.HoughLinesP(cropped_edges, rho, angle, min_threshold, \n",
    "                                    np.array([]), minLineLength=10, maxLineGap=15)\n",
    "\n",
    "    return line_segments"
   ]
  },
  {
   "cell_type": "markdown",
   "metadata": {},
   "source": [
    "This method gets a frame (in our case from the CSI Camera) and a line, makes the line's length a quarter of the frame, and returns it."
   ]
  },
  {
   "cell_type": "code",
   "execution_count": 4,
   "metadata": {},
   "outputs": [],
   "source": [
    "def make_points(frame, line):\n",
    "    height, width, _ = frame.shape\n",
    "    slope, intercept = line\n",
    "    y1 = height  # bottom of the frame\n",
    "    y2 = int(y1 * 1 / 4)  # make points from quarter of the frame down\n",
    "\n",
    "    # bound the coordinates within the frame\n",
    "    x1 = max(-width, min(2 * width, int((y1 - intercept) / slope)))\n",
    "    x2 = max(-width, min(2 * width, int((y2 - intercept) / slope)))\n",
    "    return [[x1, y1, x2, y2]]"
   ]
  },
  {
   "cell_type": "markdown",
   "metadata": {},
   "source": [
    "This method gets a frame and lines. for each line, it checks if the <b>slope</b> is negative or positive. If it's positive, then the line is being added to the <b>right lanes </b>  array, if it's negative, the line is being added to the <b>left lanes </b>array."
   ]
  },
  {
   "cell_type": "code",
   "execution_count": 5,
   "metadata": {},
   "outputs": [],
   "source": [
    "def average_slope_intercept(frame, line_segments):\n",
    "    \"\"\"\n",
    "    This function combines line segments into one or two lane lines\n",
    "    If all line slopes are < 0: then we only have detected left lane\n",
    "    If all line slopes are > 0: then we only have detected right lane\n",
    "    \"\"\"\n",
    "    lane_lines = []\n",
    "    if line_segments is None:\n",
    "        logging.info('No line_segment segments detected')\n",
    "        return lane_lines\n",
    "\n",
    "    height, width, _ = frame.shape\n",
    "    left_fit = []\n",
    "    right_fit = []\n",
    "\n",
    "    boundary = 1/2\n",
    "    left_region_boundary = width * (1 - boundary)  # left lane line segment should be on left 1/2 of the screen\n",
    "    right_region_boundary = width * boundary # right lane line segment should be on right 1/2 of the screen\n",
    "\n",
    "    for line_segment in line_segments:\n",
    "        for x1, y1, x2, y2 in line_segment:\n",
    "            if x1 == x2:\n",
    "                logging.info('skipping vertical line segment (slope=inf): %s' % line_segment)\n",
    "                continue\n",
    "            fit = np.polyfit((x1, x2), (y1, y2), 1)\n",
    "            slope = fit[0]\n",
    "            intercept = fit[1]\n",
    "            if slope < -0.25 or slope > 0.25:\n",
    "                if slope < 0:\n",
    "                    if x1 < left_region_boundary and x2 < left_region_boundary:\n",
    "                        left_fit.append((slope, intercept))\n",
    "                else:\n",
    "                    if x1 > right_region_boundary and x2 > right_region_boundary:\n",
    "                        right_fit.append((slope, intercept))\n",
    "\n",
    "    left_fit_average = np.average(left_fit, axis=0)\n",
    "    if len(left_fit) > 0:\n",
    "        lane_lines.append(make_points(frame, left_fit_average))\n",
    "\n",
    "    right_fit_average = np.average(right_fit, axis=0)\n",
    "    if len(right_fit) > 0:\n",
    "        lane_lines.append(make_points(frame, right_fit_average))\n",
    "\n",
    "    logging.debug('lane lines: %s' % lane_lines)\n",
    "\n",
    "    return lane_lines"
   ]
  },
  {
   "cell_type": "markdown",
   "metadata": {},
   "source": [
    "This method gets as input a frame (from the camera), lines array, color and width. For each line in the array, this line in <b> being painted </b> on the frame and marks down the lane with the given color and width of the line."
   ]
  },
  {
   "cell_type": "code",
   "execution_count": 6,
   "metadata": {},
   "outputs": [],
   "source": [
    "def display_lines(frame, lines, line_color=(0, 255, 255), line_width=5):\n",
    "    line_image = np.zeros_like(frame)\n",
    "    if lines is not None:\n",
    "        for line in lines:\n",
    "            for x1, y1, x2, y2 in line:\n",
    "                cv.line(line_image, (x1, y1), (x2, y2), line_color, line_width)\n",
    "    line_image = cv.addWeighted(frame, 0.8, line_image, 1, 1)\n",
    "    return line_image"
   ]
  },
  {
   "cell_type": "markdown",
   "metadata": {},
   "source": [
    "This method gets edges and returns an <b> cropped image </b> that is 1/3 bottom of the original image.\n",
    "The 1/3 bottom of the frame is our region of intrest in which all the calculations are being preformed."
   ]
  },
  {
   "cell_type": "code",
   "execution_count": 7,
   "metadata": {},
   "outputs": [],
   "source": [
    "def region_of_interest(edges):\n",
    "    height, width = edges.shape\n",
    "    mask = np.zeros_like(edges)\n",
    "\n",
    "    # only focus bottom 1/3 of the screen\n",
    "    polygon = np.array([[\n",
    "        (0, height * 1 / 3),\n",
    "        (width, height * 1 / 3),\n",
    "        (width, height),\n",
    "        (0, height),\n",
    "    ]], np.int32)\n",
    "\n",
    "    cv.fillPoly(mask, polygon, 255)\n",
    "    cropped_edges = cv.bitwise_and(edges, mask)\n",
    "    return cropped_edges"
   ]
  },
  {
   "cell_type": "code",
   "execution_count": 8,
   "metadata": {},
   "outputs": [],
   "source": [
    "# define a range of black color in HSV\n",
    "\n",
    "lower_black = np.array([0, 0, 0])\n",
    "upper_black = np.array([227, 100, 70])\n",
    "\n",
    "\n",
    "# Rectangular Kernel\n",
    "rectKernel = cv.getStructuringElement(cv.MORPH_RECT,(7,7))"
   ]
  },
  {
   "cell_type": "markdown",
   "metadata": {},
   "source": [
    "the main method of the program <b> 'update_image' </b>. in this method all the algorithm is being preformed. <br>\n",
    "This method first takes a frame (aka image) and manipulates it in order to detect lines that are being treated the lanes. <br>\n",
    "after that we calculate all the slopes of the lanes in order to know in which direction the jetRacer should go. <br>\n",
    "Also this method detects a stop sign wherever it meets one and after a stop sign is being recognized than the jetRacer will stop completely and then proceed.\n",
    "\n"
   ]
  },
  {
   "cell_type": "code",
   "execution_count": 21,
   "metadata": {},
   "outputs": [
    {
     "data": {
      "application/vnd.jupyter.widget-view+json": {
       "model_id": "abadd171f4d24f8e8e2085f33396d106",
       "version_major": 2,
       "version_minor": 0
      },
      "text/plain": [
       "Image(value=b'', format='jpeg')"
      ]
     },
     "metadata": {},
     "output_type": "display_data"
    },
    {
     "data": {
      "application/vnd.jupyter.widget-view+json": {
       "model_id": "fafe2cf0272947d6bae7b4f036edf188",
       "version_major": 2,
       "version_minor": 0
      },
      "text/plain": [
       "Image(value=b'', format='jpeg')"
      ]
     },
     "metadata": {},
     "output_type": "display_data"
    },
    {
     "name": "stdout",
     "output_type": "stream",
     "text": [
      "stop\n"
     ]
    }
   ],
   "source": [
    "car.steering = -0.225\n",
    "car.throttle = -0.62\n",
    "image = camera.read() #gets the current frame.\n",
    "\n",
    "import ipywidgets\n",
    "from IPython.display import display\n",
    "from jetcam.utils import bgr8_to_jpeg\n",
    "\n",
    "image_widget = ipywidgets.Image(format='jpeg')\n",
    "\n",
    "\n",
    "display(image_widget)\n",
    "\n",
    "camera.running = True\n",
    "\n",
    "#this method gets each frame, detects the lanes and react according to this lanes. there is a stop sign detection too.\n",
    "def update_image(change):\n",
    "    image = change['new']\n",
    "    # apply some gaussian blur to the image\n",
    "    kenerl_size = (3, 3)\n",
    "    gauss_image = cv.GaussianBlur(image, kenerl_size, 0)\n",
    "\n",
    "    # here we convert to the HSV colorspace\n",
    "    hsv_image = cv.cvtColor(gauss_image, cv.COLOR_BGR2HSV)\n",
    "\n",
    "    # apply color threshold to the HSV image to get only black colors\n",
    "    thres_1 = cv.inRange(hsv_image, lower_black, upper_black)\n",
    "\n",
    "    # dilate the the threshold image\n",
    "    thresh = cv.dilate(thres_1, rectKernel, iterations=1)\n",
    "\n",
    "    # apply canny edge detection\n",
    "    low_threshold = 200\n",
    "    high_threshold = 400\n",
    "    canny_edges = cv.Canny(gauss_image, low_threshold, high_threshold)\n",
    "    # get a region of interest\n",
    "    roi_image = region_of_interest(canny_edges)\n",
    "\n",
    "    line_segments = detect_line_segments(roi_image)\n",
    "    lane_lines = average_slope_intercept(image, line_segments)\n",
    "    # overlay the line image on the main frame\n",
    "    line_image = display_lines(image, lane_lines)\n",
    "\n",
    "    length = len(lane_lines)\n",
    "    \n",
    "    #all the stop sign detection procedure\n",
    "    img_gray = cv.cvtColor(image, cv.COLOR_BGR2GRAY)  #makes the image gray.\n",
    "    stop_data = cv.CascadeClassifier('stop_data.xml')\n",
    "    found = stop_data.detectMultiScale(img_gray,  \n",
    "                                        minSize =(20, 20))\n",
    "    amount_found = len(found)\n",
    "    \n",
    "    #if stop sign detected.\n",
    "    if amount_found != 0: \n",
    "        \n",
    "        # There may be more than one \n",
    "        # sign in the image \n",
    "        for (x, y, width, height) in found: \n",
    "\n",
    "            # We draw a green rectangle around \n",
    "            # every recognized sign \n",
    "            cv.rectangle(line_image, (x, y),  \n",
    "                            (x + height, y + width),  \n",
    "                            (0, 255, 0), 5) \n",
    "        \n",
    "        #slow down for a second and then make a full stop.\n",
    "        car.throttle = -0.2\n",
    "        sleep(1)\n",
    "        car.throttle = 0\n",
    "        \n",
    "    \n",
    "        \n",
    "    \n",
    "    #2 lanes detected\n",
    "    if length == 2:\n",
    "        left_x1, left_y1, left_x2, left_y2 = lane_lines[0][0]\n",
    "        right_x1, right_y1, right_x2, right_y2 = lane_lines[1][0]\n",
    "        slope_right = ((right_y2 - right_y1) / (right_x2 - right_x1))*(-1)\n",
    "        slope_left = ((left_y2 - left_y1) / (left_x2 - left_x1))*(-1)\n",
    "        \n",
    "        \n",
    "        #if the car is centered.\n",
    "        if(slope_left + slope_right <= 0.5 and slope_left + slope_right >= -0.5):\n",
    "            car.steering = -0.225\n",
    "            car.throttle = -0.62\n",
    "        \n",
    "        #make the car centered (right).\n",
    "        elif(slope_left + slope_right > 0.5 and slope_left + slope_right < 3):\n",
    "            car.steering -= 0.02\n",
    "            car.throttle += 0.015\n",
    "        #make the car centered (left).   \n",
    "        elif(slope_left + slope_right < -0.5 and slope_left + slope_right > -3):\n",
    "            car.steering += 0.02\n",
    "            car.throttle += 0.015\n",
    "        #make the car centered (right, more aggressive).    \n",
    "        elif(slope_left + slope_right > 3):\n",
    "            car.steering -= 0.04\n",
    "            car.throttle += 0.025\n",
    "        #make the car centered (left, more aggressive).\n",
    "        elif(slope_left + slope_right < -3):\n",
    "            car.steering += 0.04\n",
    "            car.throttle += 0.025\n",
    "        #make sure the car isn't steering too much, because when there are two lanes, there is no need to make aggressive turns.  \n",
    "        if car.steering < -0.625:\n",
    "            car.steering = -0.625\n",
    "        elif car.steering > 0.225:\n",
    "            car.steering = 0.225\n",
    "    \n",
    "    #one lane detected\n",
    "    elif length == 1:\n",
    "        lane_x1, lane_y1, lane_x2, lane_y2 = lane_lines[0][0]\n",
    "        slope = ((lane_y2 - lane_y1) / (lane_x2 - lane_x1))*(-1)\n",
    "        \n",
    "        #right lane is detected\n",
    "        if slope <= 0 and slope >= -2:\n",
    "            car.steering += 0.275\n",
    "            car.throttle += 0.08\n",
    "            \n",
    "        #left lane is detected     \n",
    "        elif slope >= 0 and slope <= 2:\n",
    "            car.steering -= 0.325\n",
    "            car.throttle += 0.15\n",
    "            \n",
    "        #right lane is detected - sharp angle.    \n",
    "        elif slope < -2:\n",
    "            car.steering += 0.375\n",
    "            car.throttle += 0.1\n",
    "            \n",
    "        #left lane is detected - sharp angle. \n",
    "        elif slope > 2:\n",
    "            car.steering -= 0.425\n",
    "            car.throttle += 0.15\n",
    "    #no lanes detected         \n",
    "    else:\n",
    "        car.throttle = -0.54\n",
    "            \n",
    "    #make sure the car's speed doesn't go above -0.575, because it may stopping the car(doesn't have enough power to move).\n",
    "    if car.throttle > -0.575:\n",
    "        car.throttle = -0.575\n",
    "        \n",
    "    \n",
    "    image_widget.value = bgr8_to_jpeg(line_image) #display the image with the detected lines in the image widget\n",
    "    \n",
    "camera.observe(update_image, names='value') "
   ]
  },
  {
   "cell_type": "markdown",
   "metadata": {},
   "source": [
    "This cell is the in charge of <b> stopping </b> the camera and then the jetRacer it self."
   ]
  },
  {
   "cell_type": "code",
   "execution_count": 22,
   "metadata": {},
   "outputs": [],
   "source": [
    "camera.unobserve(update_image, names='value') #stops the camera.\n",
    "camera.running = False\n",
    "car.throttle = 0 #stops the car."
   ]
  }
 ],
 "metadata": {
  "kernelspec": {
   "display_name": "Python 3",
   "language": "python",
   "name": "python3"
  },
  "language_info": {
   "codemirror_mode": {
    "name": "ipython",
    "version": 3
   },
   "file_extension": ".py",
   "mimetype": "text/x-python",
   "name": "python",
   "nbconvert_exporter": "python",
   "pygments_lexer": "ipython3",
   "version": "3.6.9"
  }
 },
 "nbformat": 4,
 "nbformat_minor": 2
}
